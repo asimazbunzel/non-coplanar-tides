{
 "cells": [
  {
   "cell_type": "markdown",
   "id": "f27ac00a",
   "metadata": {},
   "source": [
    "# Tides acting on a post- natal kick binary\n",
    "\n",
    "Study of the impact of tides on non-coplanar binaries\n",
    "\n",
    "In this notebook we show the results of different stellar binary evolutions in which the only difference is the\n",
    "inclination between the pre- and post- orbital planes"
   ]
  },
  {
   "cell_type": "markdown",
   "id": "0b7db971",
   "metadata": {},
   "source": [
    "### load modules"
   ]
  },
  {
   "cell_type": "code",
   "execution_count": null,
   "id": "9f8dea4e",
   "metadata": {},
   "outputs": [],
   "source": [
    "# auto load modules, no need to restart kernel\n",
    "%load_ext autoreload\n",
    "%autoreload 2\n",
    "\n",
    "from matplotlib.pyplot import cm\n",
    "import matplotlib.pyplot as plt\n",
    "import numpy as np\n",
    "\n",
    "# custom module to read MESA output\n",
    "from mesa_reader import *"
   ]
  },
  {
   "cell_type": "markdown",
   "id": "0ee31fbe",
   "metadata": {},
   "source": [
    "### utility functions\n",
    "\n",
    "#### 1. find_tams_age\n",
    "\n",
    "Provides the value of the TAMS for a star\n",
    "\n",
    "#### 2. group_consecutives\n",
    "\n",
    "Group lists by consecutive numbers. Useful when having several mass-transfer (MT) phases"
   ]
  },
  {
   "cell_type": "code",
   "execution_count": null,
   "id": "92eef6f6",
   "metadata": {},
   "outputs": [],
   "source": [
    "def find_tams_age(center_h1, age):\n",
    "    '''Find the value of the terminal age main sequence (TAMS)'''\n",
    "    for k, h1 in enumerate(center_h1):\n",
    "        if h1 < 1e-4:\n",
    "            return age[k]\n",
    "\n",
    "\n",
    "def group_consecutives(vals, step=1):\n",
    "    '''Return list of consecutive lists of numbers from vals (number list)\n",
    "    '''\n",
    "    run = []\n",
    "    result = [run]\n",
    "    expect = None\n",
    "    for v in vals:\n",
    "        if (v == expect) or (expect is None):\n",
    "            run.append(int(v))\n",
    "        else:\n",
    "            run = [int(v)]\n",
    "            result.append(run)\n",
    "        expect = int(v) + step\n",
    "    return result"
   ]
  },
  {
   "cell_type": "markdown",
   "id": "404c6b89",
   "metadata": {},
   "source": [
    "### inclinations explored\n",
    "\n",
    "We explored the following inclinations within MESA: $i = 0, 25, 50, 75, 100, 125, 150, 175$ to cover the entire\n",
    "range of possible values ($0 < i < 180$)"
   ]
  },
  {
   "cell_type": "code",
   "execution_count": null,
   "id": "ce1e2a3c",
   "metadata": {},
   "outputs": [],
   "source": [
    "inclinations = [0, 25, 50, 75, 100, 125, 150, 175]"
   ]
  },
  {
   "cell_type": "markdown",
   "id": "78619123",
   "metadata": {},
   "source": [
    "### config options for matplotlib line colors"
   ]
  },
  {
   "cell_type": "code",
   "execution_count": null,
   "id": "ceb3b6ac",
   "metadata": {},
   "outputs": [],
   "source": [
    "colors = ['C0', 'C1', 'red', 'green', 'black', 'gray', 'pink']\n",
    "color = cm.rainbow(np.linspace(0, 1, len(inclinations[1:])))"
   ]
  },
  {
   "cell_type": "markdown",
   "id": "aaee099b",
   "metadata": {},
   "source": [
    "---"
   ]
  },
  {
   "cell_type": "markdown",
   "id": "6c65c958",
   "metadata": {},
   "source": [
    "## First, we explore the results of changing the inclination in a binary in which the separation is wide enough that the star interacts with the BH when is burning He in its core (late Case B):\n",
    "\n",
    "## $\\quad\\quad\\quad\\quad\\quad\\quad$ $P_{\\mathrm{orb}} = 279 \\, \\mathrm{d}$ , $e = 0.45$"
   ]
  },
  {
   "cell_type": "markdown",
   "id": "4419648b",
   "metadata": {},
   "source": [
    "### load data"
   ]
  },
  {
   "cell_type": "code",
   "execution_count": null,
   "id": "ce0923b6",
   "metadata": {},
   "outputs": [],
   "source": [
    "root = '../data/porb2.79d2_e4.5dm1'\n",
    "\n",
    "t_tams = dict()\n",
    "binary, companion = dict(), dict()\n",
    "for inclination in inclinations:\n",
    "    companion[inclination] = MesaInfo(f'{root}/i{inclination}/LOGS/history.data')\n",
    "    binary[inclination] = MesaInfo(f'{root}/i{inclination}/binary_history.data')\n",
    "    t_tams[inclination] = find_tams_age(companion[inclination].data.center_h1, companion[inclination].data.star_age)"
   ]
  },
  {
   "cell_type": "markdown",
   "id": "8e8e2e98",
   "metadata": {},
   "source": [
    "## plots"
   ]
  },
  {
   "cell_type": "markdown",
   "id": "b8fc93bf",
   "metadata": {},
   "source": [
    "### HR diagram"
   ]
  },
  {
   "cell_type": "code",
   "execution_count": null,
   "id": "0e808127",
   "metadata": {},
   "outputs": [],
   "source": [
    "plt.style.use('style.mpl')\n",
    "fig, ax = plt.subplots(figsize=(3,3))\n",
    "ax.invert_xaxis()\n",
    "ax.set_ylim([4.42, 5.45])\n",
    "\n",
    "ax.set_xlabel('$\\\\log\\,(T_{\\\\rm eff})/K$')\n",
    "ax.set_ylabel('$\\\\log\\,(L/L_\\\\odot)$')\n",
    "\n",
    "left, bottom, width, height = [0.22, 0.22, 0.2, 0.2]\n",
    "ax2 = fig.add_axes([left, bottom, width, height])\n",
    "\n",
    "ax2.set_xlim([3.87, 3.8])\n",
    "ax2.set_ylim([4.42, 4.62])\n",
    "\n",
    "ax.plot(companion[0].data.log_Teff, companion[0].data.log_L,\n",
    "        color='black', label='0 deg');\n",
    "ax2.plot(companion[0].data.log_Teff, companion[0].data.log_L,\n",
    "        color='black');\n",
    "\n",
    "for k, inclination in enumerate(inclinations[1:]):\n",
    "    ax.plot(companion[inclination].data.log_Teff, companion[inclination].data.log_L,\n",
    "           color=color[k], label=f'{inclination} deg');\n",
    "    ax2.plot(companion[inclination].data.log_Teff, companion[inclination].data.log_L,\n",
    "           color=color[k]);\n",
    "\n",
    "leg = ax.legend(bbox_to_anchor=(0.8,0.55), title='inclinations', fontsize=6, title_fontsize=8);\n",
    "for line, text in zip(leg.get_lines(), leg.get_texts()):\n",
    "    text.set_color(line.get_color())\n",
    "    \n",
    "msun = '{\\\\odot}'\n",
    "ax.annotate(f'former accreting star of $\\sim 20$ M$_{msun}$', xy=(4.75, 5.35), fontsize=9)\n",
    "\n",
    "# reduce fontsize for inset plot\n",
    "for item in ([ax2.title, ax2.xaxis.label, ax2.yaxis.label] +\n",
    "             ax2.get_xticklabels() + ax2.get_yticklabels()):\n",
    "    item.set_fontsize(6);"
   ]
  },
  {
   "cell_type": "markdown",
   "id": "61b66c0c",
   "metadata": {},
   "source": [
    "### evolution of orbital parameters"
   ]
  },
  {
   "cell_type": "markdown",
   "id": "ead6f515",
   "metadata": {},
   "source": [
    "### - inclination"
   ]
  },
  {
   "cell_type": "code",
   "execution_count": null,
   "id": "fe5436ba",
   "metadata": {},
   "outputs": [],
   "source": [
    "plt.style.use('style.mpl')\n",
    "fig, ax = plt.subplots(figsize=(3,3))\n",
    "ax.invert_xaxis()\n",
    "\n",
    "ax.set_xlim([1.3e4, 1.8e4])\n",
    "ax.set_ylim([0, 180])\n",
    "\n",
    "ax.set_xlabel('time since end of MS [days]')\n",
    "ax.set_ylabel('inclination [deg]')\n",
    "\n",
    "for k, inclination in enumerate(inclinations[1:]):\n",
    "    ax.plot(binary[inclination].data.age - t_tams[inclination], binary[inclination].data.inclination,\n",
    "           color=color[k], label=f'{inclination} deg')\n",
    "\n",
    "leg = ax.legend(bbox_to_anchor=(0.92,0.7), title='inclinations', fontsize=6, title_fontsize=8);\n",
    "for line, text in zip(leg.get_lines(), leg.get_texts()):\n",
    "    text.set_color(line.get_color());"
   ]
  },
  {
   "cell_type": "markdown",
   "id": "01716c2e",
   "metadata": {},
   "source": [
    "### - orbital period"
   ]
  },
  {
   "cell_type": "code",
   "execution_count": null,
   "id": "19243478",
   "metadata": {},
   "outputs": [],
   "source": [
    "plt.style.use('style.mpl')\n",
    "fig, ax = plt.subplots(figsize=(3,3))\n",
    "ax.invert_xaxis()\n",
    "\n",
    "ax.set_xlim([1.3e4, 1.8e4])\n",
    "ax.set_ylim([50, 300])\n",
    "\n",
    "ax.set_xlabel('time since end of MS [days]')\n",
    "latex = '{\\\\rm orb}'\n",
    "ax.set_ylabel(f'$P_{latex}$ [days]')\n",
    "\n",
    "ax.plot(binary[0].data.age - t_tams[0], binary[0].data.period_days,\n",
    "           color='black', label='0 deg')\n",
    "\n",
    "for k, inclination in enumerate(inclinations[1:]):\n",
    "    ax.plot(binary[inclination].data.age - t_tams[inclination], binary[inclination].data.period_days,\n",
    "           color=color[k], label=f'{inclination} deg')\n",
    "\n",
    "leg = ax.legend(bbox_to_anchor=(0.92,0.9), title='inclinations', fontsize=6, title_fontsize=8);\n",
    "for line, text in zip(leg.get_lines(), leg.get_texts()):\n",
    "    text.set_color(line.get_color());"
   ]
  },
  {
   "cell_type": "markdown",
   "id": "5022ce16",
   "metadata": {},
   "source": [
    "### - eccentricity"
   ]
  },
  {
   "cell_type": "code",
   "execution_count": null,
   "id": "477a722c",
   "metadata": {},
   "outputs": [],
   "source": [
    "plt.style.use('style.mpl')\n",
    "fig, ax = plt.subplots(figsize=(3,3))\n",
    "ax.invert_xaxis()\n",
    "\n",
    "ax.set_xlim([1.3e4, 1.8e4])\n",
    "ax.set_ylim([0, 0.5])\n",
    "\n",
    "ax.set_xlabel('time since end of MS [days]')\n",
    "ax.set_ylabel('eccentricity')\n",
    "\n",
    "ax.plot(binary[0].data.age - t_tams[0], binary[0].data.eccentricity,\n",
    "           color='black', label='0 deg')\n",
    "\n",
    "for k, inclination in enumerate(inclinations[1:]):\n",
    "    ax.plot(binary[inclination].data.age - t_tams[inclination], binary[inclination].data.eccentricity,\n",
    "           color=color[k], label=f'{inclination} deg')\n",
    "\n",
    "leg = ax.legend(bbox_to_anchor=(0.92,0.9), title='inclinations', fontsize=6, title_fontsize=8);\n",
    "for line, text in zip(leg.get_lines(), leg.get_texts()):\n",
    "    text.set_color(line.get_color());"
   ]
  },
  {
   "cell_type": "markdown",
   "id": "8cbec41e",
   "metadata": {},
   "source": [
    "### - rotational period"
   ]
  },
  {
   "cell_type": "code",
   "execution_count": null,
   "id": "e5bdfc81",
   "metadata": {},
   "outputs": [],
   "source": [
    "plt.style.use('style.mpl')\n",
    "fig, ax = plt.subplots(figsize=(3,3))\n",
    "ax.invert_xaxis()\n",
    "ax.set_yscale('log')\n",
    "\n",
    "ax.set_xlim([1.3e4, 1.8e4])\n",
    "\n",
    "ax.set_xlabel('time since end of MS [days]')\n",
    "latex_rot = '{\\\\rm rot}'\n",
    "latex_orb = '{\\\\rm orb}'\n",
    "ax.set_ylabel(f'$P_{latex_rot}/P_{latex_orb}$')\n",
    "\n",
    "ax.plot(binary[0].data.age - t_tams[0], binary[0].data.P_rot_div_P_orb_1,\n",
    "           color='black', label='0 deg')\n",
    "\n",
    "for k, inclination in enumerate(inclinations[1:]):\n",
    "    ax.plot(binary[inclination].data.age - t_tams[inclination], binary[inclination].data.P_rot_div_P_orb_1,\n",
    "           color=color[k], label=f'{inclination} deg')\n",
    "\n",
    "leg = ax.legend(bbox_to_anchor=(0.6,0.6), title='inclinations', fontsize=6, title_fontsize=8);\n",
    "for line, text in zip(leg.get_lines(), leg.get_texts()):\n",
    "    text.set_color(line.get_color());\n",
    "    \n",
    "# ax2 = ax.twinx()\n",
    "# ax2.set_yscale('log')\n",
    "# ax2.set_ylabel(f'$\\\\Omega_{latex_rot}/\\\\Omega_{latex_orb}$')\n",
    "# for k, inclination in enumerate(inclinations):\n",
    "#     ax2.plot(binary[inclination].data.star_1_mass, companion[inclination].data.Omega_div_Omega_eq,\n",
    "#            color=color[k], linestyle=':');"
   ]
  },
  {
   "cell_type": "markdown",
   "id": "8629c528",
   "metadata": {},
   "source": [
    "### - same as before but altogether"
   ]
  },
  {
   "cell_type": "code",
   "execution_count": null,
   "id": "40bd4259",
   "metadata": {},
   "outputs": [],
   "source": [
    "plt.style.use('style.mpl')\n",
    "fig, axs = plt.subplots(figsize=(6,5), nrows=4, sharex=True)\n",
    "plt.subplots_adjust(hspace=0)\n",
    "\n",
    "axs[-1].set_xlim([1.3e4, 1.8e4])\n",
    "axs[-1].set_xlabel('time since end of MS [days]')\n",
    "\n",
    "# first, inclination\n",
    "axs[0].set_ylim([0.02, 180])\n",
    "axs[0].set_ylabel('inclination [deg]')\n",
    "\n",
    "for k, inclination in enumerate(inclinations[1:]):\n",
    "    axs[0].plot(binary[inclination].data.age - t_tams[inclination], binary[inclination].data.inclination,\n",
    "           color=color[k])\n",
    "    \n",
    "# then, orbital period\n",
    "axs[1].set_ylim([50, 320])\n",
    "latex = '{\\\\rm orb}'\n",
    "axs[1].set_ylabel(f'$P_{latex}$ [days]')\n",
    "\n",
    "axs[1].plot(binary[0].data.age - t_tams[0], binary[0].data.period_days,\n",
    "           color='black', label='0 deg')\n",
    "for k, inclination in enumerate(inclinations[1:]):\n",
    "    axs[1].plot(binary[inclination].data.age - t_tams[inclination], binary[inclination].data.period_days,\n",
    "           color=color[k], label=f'{inclination} deg')\n",
    "\n",
    "leg = axs[1].legend(loc=1, bbox_to_anchor=(0.9,1.1), title='inclinations', fontsize=6, title_fontsize=8);\n",
    "for line, text in zip(leg.get_lines(), leg.get_texts()):\n",
    "    text.set_color(line.get_color());\n",
    "    \n",
    "# follows the eccentricity\n",
    "axs[2].set_ylim([0.02, 0.5])\n",
    "axs[2].set_ylabel('eccentricity')\n",
    "\n",
    "axs[2].plot(binary[0].data.age - t_tams[0], binary[0].data.eccentricity,\n",
    "           color='black', label='0 deg')\n",
    "for k, inclination in enumerate(inclinations[1:]):\n",
    "    axs[2].plot(binary[inclination].data.age - t_tams[inclination], binary[inclination].data.eccentricity,\n",
    "           color=color[k])\n",
    "\n",
    "# finally, the rotational period of the donor star\n",
    "axs[3].set_yscale('log')\n",
    "\n",
    "latex_rot = '{\\\\rm rot}'\n",
    "latex_orb = '{\\\\rm orb}'\n",
    "axs[3].set_ylabel(f'$P_{latex_rot}/P_{latex_orb}$')\n",
    "\n",
    "axs[3].axhline(y=1, ls=':', color='black')\n",
    "\n",
    "axs[3].plot(binary[0].data.age - t_tams[0], binary[0].data.P_rot_div_P_orb_1,\n",
    "           color='black', label='0 deg')\n",
    "\n",
    "for k, inclination in enumerate(inclinations[1:]):\n",
    "    axs[3].plot(binary[inclination].data.age - t_tams[inclination], binary[inclination].data.P_rot_div_P_orb_1,\n",
    "           color=color[k])\n",
    "    \n",
    "# plt.savefig('tides_porb279_e0.45.svg')"
   ]
  },
  {
   "cell_type": "markdown",
   "id": "91865fb3",
   "metadata": {},
   "source": [
    "#### Mass-transfer (R > RL) starts at about 15500 yrs after the end of the MS:"
   ]
  },
  {
   "cell_type": "code",
   "execution_count": null,
   "id": "874f6864",
   "metadata": {},
   "outputs": [],
   "source": [
    "age_init_MT = np.zeros(len(inclinations))\n",
    "for k, i in enumerate(inclinations):\n",
    "    mask = binary[i].data.star_1_radius > binary[i].data.rl_1\n",
    "    age_init_MT[k] = binary[i].data.age[mask][0] - t_tams[i]\n",
    "print(np.mean(age_init_MT))"
   ]
  },
  {
   "cell_type": "markdown",
   "id": "6fff3cef",
   "metadata": {},
   "source": [
    "---"
   ]
  },
  {
   "cell_type": "markdown",
   "id": "6241ab27",
   "metadata": {},
   "source": [
    "## Secondly, we explore a binary tight enough that the star interacts with the BH just after leaving the MS, i.e., when its crossing the HG (early Case B):\n",
    "\n",
    "## $\\quad\\quad\\quad\\quad\\quad\\quad$ $P_{\\mathrm{orb}} = 5 \\, \\mathrm{d}$ , $e = 0.2$"
   ]
  },
  {
   "cell_type": "markdown",
   "id": "558d0eb5",
   "metadata": {},
   "source": [
    "### load data"
   ]
  },
  {
   "cell_type": "code",
   "execution_count": null,
   "id": "3075f831",
   "metadata": {},
   "outputs": [],
   "source": [
    "root = '../data/porb5d0_e2dm1'\n",
    "\n",
    "t_tams = dict()\n",
    "binary, companion = dict(), dict()\n",
    "for inclination in inclinations:\n",
    "    companion[inclination] = MesaInfo(f'{root}/i{inclination}/LOGS/history.data')\n",
    "    binary[inclination] = MesaInfo(f'{root}/i{inclination}/binary_history.data')\n",
    "    t_tams[inclination] = find_tams_age(companion[inclination].data.center_h1, companion[inclination].data.star_age)"
   ]
  },
  {
   "cell_type": "markdown",
   "id": "4ec8a2d0",
   "metadata": {},
   "source": [
    "## plots"
   ]
  },
  {
   "cell_type": "markdown",
   "id": "6ed476d1",
   "metadata": {},
   "source": [
    "### - HR diagram"
   ]
  },
  {
   "cell_type": "code",
   "execution_count": null,
   "id": "acb67f55",
   "metadata": {},
   "outputs": [],
   "source": [
    "plt.style.use('style.mpl')\n",
    "fig, ax = plt.subplots(figsize=(3,3))\n",
    "ax.invert_xaxis()\n",
    "ax.set_ylim([3.8, 5.3])\n",
    "\n",
    "ax.set_xlabel('$\\\\log\\,(T_{\\\\rm eff})/K$')\n",
    "ax.set_ylabel('$\\\\log\\,(L/L_\\\\odot)$')\n",
    "\n",
    "ax.plot(companion[0].data.log_Teff, companion[0].data.log_L,\n",
    "           color='black', label='0 deg');\n",
    "\n",
    "for k, inclination in enumerate(inclinations[1:]):\n",
    "    ax.plot(companion[inclination].data.log_Teff, companion[inclination].data.log_L,\n",
    "           color=color[k], label=f'{inclination} deg');\n",
    "\n",
    "leg = ax.legend(bbox_to_anchor=(0.32,0.5), title='inclinations', fontsize=6, title_fontsize=8);\n",
    "for line, text in zip(leg.get_lines(), leg.get_texts()):\n",
    "    text.set_color(line.get_color())\n",
    "    \n",
    "msun = '{\\\\odot}'\n",
    "ax.annotate(f'former accreting star of $\\sim 20$ M$_{msun}$', xy=(4.5, 5.2), fontsize=9);\n",
    "\n",
    "ax.annotate('really high MT rates\\nstop before\\nnumerical issues', xy=(4.18,4.0), xytext=(4.18,4.2), fontsize=8,\n",
    "           arrowprops=dict(\n",
    "                    arrowstyle='-|>', connectionstyle=\"arc3,rad=-0.05\",\n",
    "                    color=\"k\",\n",
    "                ));"
   ]
  },
  {
   "cell_type": "markdown",
   "id": "b6cfede9",
   "metadata": {},
   "source": [
    "### - inclination"
   ]
  },
  {
   "cell_type": "code",
   "execution_count": null,
   "id": "b3666bed",
   "metadata": {},
   "outputs": [],
   "source": [
    "plt.style.use('style.mpl')\n",
    "fig, ax = plt.subplots(figsize=(3,3))\n",
    "ax.set_xscale('log')\n",
    "ax.set_xlim([1e-4, 1.1])\n",
    "\n",
    "ax.set_xlabel('$t / \\\\tau_{\\\\rm TAMS}$')\n",
    "ax.set_ylabel('inclination [deg]')\n",
    "\n",
    "for k, inclination in enumerate(inclinations[1:]):\n",
    "    ax.plot(binary[inclination].data.age/t_tams[inclination], binary[inclination].data.inclination,\n",
    "           color=color[k], label=f'{inclination} deg')\n",
    "\n",
    "leg = ax.legend(bbox_to_anchor=(0.4,0.5), title='inclinations', fontsize=6, title_fontsize=8);\n",
    "for line, text in zip(leg.get_lines(), leg.get_texts()):\n",
    "    text.set_color(line.get_color());"
   ]
  },
  {
   "cell_type": "markdown",
   "id": "b20c65db",
   "metadata": {},
   "source": [
    "### - orbital period"
   ]
  },
  {
   "cell_type": "code",
   "execution_count": null,
   "id": "a4406ee0",
   "metadata": {},
   "outputs": [],
   "source": [
    "plt.style.use('style.mpl')\n",
    "fig, ax = plt.subplots(figsize=(3,3))\n",
    "ax.set_ylim([4.5,5.6])\n",
    "ax.set_xscale('log')\n",
    "ax.set_xlim([1e-4, 1.1])\n",
    "\n",
    "ax.set_xlabel('$t / \\\\tau_{\\\\rm TAMS}$')\n",
    "latex = '{\\\\rm orb}'\n",
    "ax.set_ylabel(f'$P_{latex}$ [days]')\n",
    "\n",
    "ax.plot(binary[0].data.age/t_tams[0], binary[0].data.period_days,\n",
    "           color='black', label='0 deg')\n",
    "\n",
    "for k, inclination in enumerate(inclinations[1:]):\n",
    "    ax.plot(binary[inclination].data.age/t_tams[inclination], binary[inclination].data.period_days,\n",
    "           color=color[k], label=f'{inclination} deg')\n",
    "\n",
    "leg = ax.legend(bbox_to_anchor=(0.4,0.5), title='inclinations', fontsize=6, title_fontsize=8);\n",
    "for line, text in zip(leg.get_lines(), leg.get_texts()):\n",
    "    text.set_color(line.get_color());"
   ]
  },
  {
   "cell_type": "markdown",
   "id": "31252c2d",
   "metadata": {},
   "source": [
    "### - eccentricity"
   ]
  },
  {
   "cell_type": "code",
   "execution_count": null,
   "id": "7779e51d",
   "metadata": {},
   "outputs": [],
   "source": [
    "plt.style.use('style.mpl')\n",
    "fig, ax = plt.subplots(figsize=(3,3))\n",
    "ax.set_xscale('log')\n",
    "ax.set_xlim([1e-4, 1.1])\n",
    "\n",
    "ax.set_xlabel('$t / \\\\tau_{\\\\rm TAMS}$')\n",
    "ax.set_ylabel('eccentricity')\n",
    "\n",
    "ax.plot(binary[0].data.age/t_tams[0], binary[0].data.eccentricity,\n",
    "           color='black', label='0 deg')\n",
    "\n",
    "for k, inclination in enumerate(inclinations[1:]):\n",
    "    ax.plot(binary[inclination].data.age/t_tams[inclination], binary[inclination].data.eccentricity,\n",
    "           color=color[k], label=f'{inclination} deg')\n",
    "\n",
    "leg = ax.legend(bbox_to_anchor=(0.4,0.6), title='inclinations', fontsize=6, title_fontsize=8);\n",
    "for line, text in zip(leg.get_lines(), leg.get_texts()):\n",
    "    text.set_color(line.get_color());"
   ]
  },
  {
   "cell_type": "markdown",
   "id": "32ebe252",
   "metadata": {},
   "source": [
    "### - rotational period"
   ]
  },
  {
   "cell_type": "code",
   "execution_count": null,
   "id": "9caa0a0f",
   "metadata": {},
   "outputs": [],
   "source": [
    "plt.style.use('style.mpl')\n",
    "fig, ax = plt.subplots(figsize=(3,3))\n",
    "ax.set_xscale('log')\n",
    "ax.set_xlim([1e-4, 1.1])\n",
    "\n",
    "ax.set_xlabel('$t / \\\\tau_{\\\\rm TAMS}$')\n",
    "latex_rot = '{\\\\rm rot}'\n",
    "latex_orb = '{\\\\rm orb}'\n",
    "ax.set_ylabel(f'$P_{latex_rot}/P_{latex_orb}$')\n",
    "\n",
    "ax.plot(binary[0].data.age/t_tams[0], binary[0].data.P_rot_div_P_orb_1,\n",
    "           color='black', label='0 deg')\n",
    "\n",
    "for k, inclination in enumerate(inclinations[1:]):\n",
    "    ax.plot(binary[inclination].data.age/t_tams[inclination], binary[inclination].data.P_rot_div_P_orb_1,\n",
    "           color=color[k], label=f'{inclination} deg')\n",
    "    # ax2.plot(binary[inclination].data.star_1_mass, binary[inclination].data.P_rot_div_P_orb_1,\n",
    "    #        color=color[k], label=f'{inclination} deg')\n",
    "\n",
    "leg = ax.legend(bbox_to_anchor=(0.4,0.7), title='inclinations', fontsize=6, title_fontsize=8);\n",
    "for line, text in zip(leg.get_lines(), leg.get_texts()):\n",
    "    text.set_color(line.get_color());\n",
    "    \n",
    "# left, bottom, width, height = [0.3, 0.4, 0.2, 0.2]\n",
    "# ax2 = fig.add_axes([left, bottom, width, height])\n",
    "\n",
    "# ax2.set_xlim([20.4, 20.3])\n",
    "# ax2.set_ylim([0.7, 1.05])\n",
    "\n",
    "# ax3 = ax.twinx()\n",
    "# ax2.set_yscale('log')\n",
    "# ax3.set_ylabel(f'$\\\\Omega_{latex_rot}/\\\\Omega_{latex_orb}$')\n",
    "# for k, inclination in enumerate(inclinations):\n",
    "#     ax3.plot(binary[inclination].data.star_1_mass, companion[inclination].data.Omega_div_Omega_eq,\n",
    "#            color=color[k], linestyle=':');\n",
    "    \n",
    "# reduce fontsize for inset plot\n",
    "# for item in ([ax2.title, ax2.xaxis.label, ax2.yaxis.label] +\n",
    "#              ax2.get_xticklabels() + ax2.get_yticklabels()):\n",
    "#     item.set_fontsize(6);"
   ]
  },
  {
   "cell_type": "markdown",
   "id": "80644bf8",
   "metadata": {},
   "source": [
    "### - same as before but altogether"
   ]
  },
  {
   "cell_type": "code",
   "execution_count": null,
   "id": "92a26bc7",
   "metadata": {},
   "outputs": [],
   "source": [
    "plt.style.use('style.mpl')\n",
    "fig, axs = plt.subplots(figsize=(6,5), nrows=4, sharex=True)\n",
    "plt.subplots_adjust(hspace=0)\n",
    "\n",
    "axs[-1].set_xscale('log')\n",
    "axs[-1].set_xlim([1e-4, 1.1])\n",
    "axs[-1].set_xlabel('$t / \\\\tau_{\\\\rm TAMS}$')\n",
    "\n",
    "# first, inclination\n",
    "axs[0].set_ylim([0.02, 180])\n",
    "axs[0].set_ylabel('inclination [deg]')\n",
    "\n",
    "for k, inclination in enumerate(inclinations[1:]):\n",
    "    axs[0].plot(binary[inclination].data.age/t_tams[inclination], binary[inclination].data.inclination,\n",
    "           color=color[k])\n",
    "    \n",
    "# then, orbital period\n",
    "axs[1].set_ylim([4.7, 5.7])\n",
    "latex = '{\\\\rm orb}'\n",
    "axs[1].set_ylabel(f'$P_{latex}$ [days]')\n",
    "\n",
    "axs[1].plot(binary[0].data.age/t_tams[0], binary[0].data.period_days,\n",
    "           color='black', label='0 deg')\n",
    "for k, inclination in enumerate(inclinations[1:]):\n",
    "    axs[1].plot(binary[inclination].data.age/t_tams[inclination], binary[inclination].data.period_days,\n",
    "           color=color[k], label=f'{inclination} deg')\n",
    "\n",
    "leg = axs[1].legend(loc=1, bbox_to_anchor=(0.2,1.1), title='inclinations', fontsize=6, title_fontsize=8);\n",
    "for line, text in zip(leg.get_lines(), leg.get_texts()):\n",
    "    text.set_color(line.get_color());\n",
    "    \n",
    "# follows the eccentricity\n",
    "axs[2].set_ylim([0.02, 0.24])\n",
    "axs[2].set_ylabel('eccentricity')\n",
    "\n",
    "axs[2].plot(binary[0].data.age/t_tams[0], binary[0].data.eccentricity,\n",
    "           color='black', label='0 deg')\n",
    "for k, inclination in enumerate(inclinations[1:]):\n",
    "    axs[2].plot(binary[inclination].data.age/t_tams[inclination], binary[inclination].data.eccentricity,\n",
    "           color=color[k])\n",
    "\n",
    "# finally, the rotational period of the donor star\n",
    "axs[3].set_yscale('log')\n",
    "\n",
    "latex_rot = '{\\\\rm rot}'\n",
    "latex_orb = '{\\\\rm orb}'\n",
    "axs[3].set_ylabel(f'$P_{latex_rot}/P_{latex_orb}$')\n",
    "\n",
    "axs[3].axhline(y=1, ls=':', color='black')\n",
    "\n",
    "axs[3].plot(binary[0].data.age/t_tams[0], binary[0].data.P_rot_div_P_orb_1,\n",
    "           color='black', label='0 deg')\n",
    "\n",
    "for k, inclination in enumerate(inclinations[1:]):\n",
    "    axs[3].plot(binary[inclination].data.age/t_tams[inclination], binary[inclination].data.P_rot_div_P_orb_1,\n",
    "           color=color[k])\n",
    "    \n",
    "# plt.savefig('tides_porb5_e0.2.svg')"
   ]
  }
 ],
 "metadata": {
  "kernelspec": {
   "display_name": "Python 3 (ipykernel)",
   "language": "python",
   "name": "python3"
  },
  "language_info": {
   "codemirror_mode": {
    "name": "ipython",
    "version": 3
   },
   "file_extension": ".py",
   "mimetype": "text/x-python",
   "name": "python",
   "nbconvert_exporter": "python",
   "pygments_lexer": "ipython3",
   "version": "3.9.7"
  }
 },
 "nbformat": 4,
 "nbformat_minor": 5
}
