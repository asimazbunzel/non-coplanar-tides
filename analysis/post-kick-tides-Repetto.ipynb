{
 "cells": [
  {
   "cell_type": "markdown",
   "id": "f27ac00a",
   "metadata": {},
   "source": [
    "# Tides acting on a post- natal kick binary\n",
    "\n",
    "Study of the impact of tides on non-coplanar binaries\n",
    "\n",
    "In this notebook we show the comparison between the evolutions presented in Repetto et al. (2014) and ours"
   ]
  },
  {
   "cell_type": "markdown",
   "id": "0b7db971",
   "metadata": {},
   "source": [
    "### load modules"
   ]
  },
  {
   "cell_type": "code",
   "execution_count": null,
   "id": "b48f89b4",
   "metadata": {},
   "outputs": [],
   "source": [
    "# auto load modules, no need to restart kernel\n",
    "%load_ext autoreload\n",
    "%autoreload 2\n",
    "\n",
    "from matplotlib.pyplot import cm\n",
    "import matplotlib.pyplot as plt\n",
    "import numpy as np\n",
    "from matplotlib.ticker import MultipleLocator\n",
    "\n",
    "# custom module to read MESA output\n",
    "from mesa_reader import *"
   ]
  },
  {
   "cell_type": "markdown",
   "id": "0ee31fbe",
   "metadata": {},
   "source": [
    "### utility functions\n",
    "\n",
    "#### 1. group_consecutives\n",
    "\n",
    "Group lists by consecutive numbers. Useful when having several mass-transfer (MT) phases"
   ]
  },
  {
   "cell_type": "code",
   "execution_count": null,
   "id": "38f77f8c",
   "metadata": {},
   "outputs": [],
   "source": [
    "def group_consecutives(vals, step=1):\n",
    "    '''Return list of consecutive lists of numbers from vals (number list)\n",
    "    '''\n",
    "    run = []\n",
    "    result = [run]\n",
    "    expect = None\n",
    "    for v in vals:\n",
    "        if (v == expect) or (expect is None):\n",
    "            run.append(int(v))\n",
    "        else:\n",
    "            run = [int(v)]\n",
    "            result.append(run)\n",
    "        expect = int(v) + step\n",
    "    return result"
   ]
  },
  {
   "cell_type": "markdown",
   "id": "aaee099b",
   "metadata": {},
   "source": [
    "---"
   ]
  },
  {
   "cell_type": "markdown",
   "id": "6c65c958",
   "metadata": {},
   "source": [
    "## Low-mass X-ray Binary (LMXB) as in Repetto et al. (2014)"
   ]
  },
  {
   "cell_type": "markdown",
   "id": "4419648b",
   "metadata": {},
   "source": [
    "### load data"
   ]
  },
  {
   "cell_type": "code",
   "execution_count": null,
   "id": "d2f0620c",
   "metadata": {},
   "outputs": [],
   "source": [
    "root_mb = '../data/repetto2014/m1_bh8_a11.5_e0.5_i120_mb'\n",
    "root_no_mb = '../data/repetto2014/m1_bh8_a11.5_e0.5_i120_no_mb'\n",
    "\n",
    "lmxb_i120_mb = MesaInfo(f'{root_mb}/binary_history.data')\n",
    "lmxb_i120_no_mb = MesaInfo(f'{root_no_mb}/binary_history.data')"
   ]
  },
  {
   "cell_type": "markdown",
   "id": "de00d0d1",
   "metadata": {},
   "source": [
    "### load data from Repetto et al. 2014"
   ]
  },
  {
   "cell_type": "code",
   "execution_count": null,
   "id": "2bd90fb8",
   "metadata": {},
   "outputs": [],
   "source": [
    "repetto_t1, repetto_period = np.loadtxt(\n",
    "    '../data/repetto2014/m1_bh8_a11.5_e0.5_i120_mb/period-dataset.csv',\n",
    "    delimiter=',', unpack=True\n",
    ")\n",
    "\n",
    "repetto_t2, repetto_rotation = np.loadtxt(\n",
    "    '../data/repetto2014/m1_bh8_a11.5_e0.5_i120_mb/rotation-dataset.csv',\n",
    "    delimiter=',', unpack=True\n",
    ")"
   ]
  },
  {
   "cell_type": "markdown",
   "id": "513518cb",
   "metadata": {},
   "source": [
    "#### get TAMS age"
   ]
  },
  {
   "cell_type": "code",
   "execution_count": null,
   "id": "737ef618",
   "metadata": {},
   "outputs": [],
   "source": [
    "t_TAMS = 8.5246e+09\n",
    "print(f'age to TAMS: {t_TAMS:.4e}')"
   ]
  },
  {
   "cell_type": "markdown",
   "id": "8e8e2e98",
   "metadata": {},
   "source": [
    "## plots"
   ]
  },
  {
   "cell_type": "markdown",
   "id": "61b66c0c",
   "metadata": {},
   "source": [
    "### evolution of orbital parameters"
   ]
  },
  {
   "cell_type": "markdown",
   "id": "65498ae3",
   "metadata": {},
   "source": [
    "### - eccentricity and orbital periods"
   ]
  },
  {
   "cell_type": "code",
   "execution_count": null,
   "id": "e7c04616",
   "metadata": {},
   "outputs": [],
   "source": [
    "plt.style.use('style.mpl')\n",
    "fig, axs = plt.subplots(figsize=(4,4), nrows=2, sharex=True)\n",
    "plt.subplots_adjust(hspace=0)\n",
    "\n",
    "axs[-1].set_xlim([1e-5, 1])\n",
    "axs[-1].set_xlabel('t/t$_{\\\\rm MS}$')\n",
    "axs[-1].set_xscale('log')\n",
    "\n",
    "# first, orbital period\n",
    "latex = '{\\\\rm orb}'\n",
    "axs[0].set_ylabel(f'$P_{latex}$ [days]')\n",
    "\n",
    "# Repetto et al. 2014 results\n",
    "# axs[0].plot(\n",
    "#     repetto_t1, repetto_period, \n",
    "#     color='blue', ls='-'\n",
    "# )\n",
    "\n",
    "# our results\n",
    "axs[0].plot(\n",
    "    lmxb_i120_mb.data.age/t_TAMS, lmxb_i120_mb.data.period_days,\n",
    "    color='#9E3253',\n",
    "    label='with magnetic braking'\n",
    ")\n",
    "\n",
    "axs[0].plot(\n",
    "    lmxb_i120_no_mb.data.age/t_TAMS, lmxb_i120_no_mb.data.period_days,\n",
    "    color='#123A6C',\n",
    "    label='without magnetic braking'\n",
    ")\n",
    "\n",
    "\n",
    "# follows the eccentricity\n",
    "axs[1].set_ylabel('eccentricity')\n",
    "\n",
    "# our results\n",
    "axs[1].plot(\n",
    "    lmxb_i120_mb.data.age/t_TAMS, lmxb_i120_mb.data.eccentricity,\n",
    "    color='#9E3253',\n",
    ")\n",
    "\n",
    "axs[1].plot(\n",
    "    lmxb_i120_no_mb.data.age/t_TAMS, lmxb_i120_no_mb.data.eccentricity,\n",
    "    color='#123A6C',\n",
    ")\n",
    "\n",
    "# ticks params\n",
    "axs[0].set_yticks(np.arange(0.4, 1.6, 0.2)); axs[0].set_ylim([0.5, 1.58])\n",
    "axs[0].yaxis.set_minor_locator(MultipleLocator(0.1))\n",
    "\n",
    "axs[1].set_yticks(np.arange(0, 0.6, 0.1)); axs[1].set_ylim([0.001, 0.55])\n",
    "axs[1].yaxis.set_minor_locator(MultipleLocator(0.05));\n",
    "\n",
    "axs[0].legend();"
   ]
  },
  {
   "cell_type": "markdown",
   "id": "118b66d6",
   "metadata": {},
   "source": [
    "### - inclination and spin period of each star"
   ]
  },
  {
   "cell_type": "code",
   "execution_count": null,
   "id": "b756bb0e",
   "metadata": {},
   "outputs": [],
   "source": [
    "plt.style.use('style.mpl')\n",
    "fig, axs = plt.subplots(figsize=(4,4), nrows=2, sharex=True)\n",
    "plt.subplots_adjust(hspace=0)\n",
    "\n",
    "axs[-1].set_xlim([1e-5, 1])\n",
    "axs[-1].set_xlabel('t/t$_{\\\\rm MS}$')\n",
    "axs[-1].set_xscale('log')\n",
    "\n",
    "# first, inclination\n",
    "axs[0].set_ylabel('inclination [deg]')\n",
    "\n",
    "axs[0].plot(\n",
    "    lmxb_i120_mb.data.age/t_TAMS, lmxb_i120_mb.data.inclination_1,\n",
    "    color='#9E3253', ls='-',\n",
    "    label='with magnetic braking'\n",
    ");\n",
    "\n",
    "axs[0].plot(\n",
    "    lmxb_i120_no_mb.data.age/t_TAMS, lmxb_i120_no_mb.data.inclination_1,\n",
    "    color='#123A6C',\n",
    "    label='without magnetic braking'\n",
    ");\n",
    "\n",
    "# finally, the rotational period of the donor star\n",
    "latex = '{\\\\rm orb, rot}'\n",
    "axs[1].set_ylabel(f'$P_{latex}$')\n",
    "\n",
    "# axs[3].axhline(y=1, ls=':', color='black')\n",
    "# axs[3].annotate('syncronization', xy=(0.25,0.9))\n",
    "\n",
    "axs[1].plot(\n",
    "    lmxb_i120_mb.data.age/t_TAMS, lmxb_i120_mb.data.P_rot_div_P_orb_1 * lmxb_i120_mb.data.period_days,\n",
    "    color='#9E3253',\n",
    "    ls='--'\n",
    ");\n",
    "\n",
    "axs[1].plot(\n",
    "    lmxb_i120_mb.data.age/t_TAMS, lmxb_i120_mb.data.period_days,\n",
    "    color='#9E3253'\n",
    ");\n",
    "\n",
    "axs[1].plot(\n",
    "    lmxb_i120_no_mb.data.age/t_TAMS, lmxb_i120_no_mb.data.P_rot_div_P_orb_1 * lmxb_i120_no_mb.data.period_days,\n",
    "    color='#123A6C',\n",
    "    ls='--'\n",
    ");\n",
    "\n",
    "axs[1].plot(\n",
    "    lmxb_i120_no_mb.data.age/t_TAMS, lmxb_i120_no_mb.data.period_days,\n",
    "    color='#123A6C',\n",
    ");\n",
    "\n",
    "# ticks params\n",
    "axs[0].set_yticks(np.arange(0, 130, 20)); axs[0].set_ylim([0.0001, 130])\n",
    "axs[0].yaxis.set_minor_locator(MultipleLocator(10))\n",
    "\n",
    "axs[1].set_yticks(np.arange(0, 1.7, 0.2)); axs[1].set_ylim([0.15, 1.58])\n",
    "axs[1].yaxis.set_minor_locator(MultipleLocator(0.1))\n",
    "\n",
    "# annotate spin label\n",
    "axs[1].annotate('donor star spin', xy=(3e-5, 0.3), color='black');\n",
    "axs[1].annotate('orbital period', xy=(3e-5, 1.38), color='black');"
   ]
  }
 ],
 "metadata": {
  "kernelspec": {
   "display_name": "Python 3 (ipykernel)",
   "language": "python",
   "name": "python3"
  },
  "language_info": {
   "codemirror_mode": {
    "name": "ipython",
    "version": 3
   },
   "file_extension": ".py",
   "mimetype": "text/x-python",
   "name": "python",
   "nbconvert_exporter": "python",
   "pygments_lexer": "ipython3",
   "version": "3.9.7"
  }
 },
 "nbformat": 4,
 "nbformat_minor": 5
}
