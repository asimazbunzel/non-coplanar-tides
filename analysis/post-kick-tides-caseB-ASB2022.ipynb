{
 "cells": [
  {
   "cell_type": "markdown",
   "id": "f27ac00a",
   "metadata": {},
   "source": [
    "# Tides acting on a post- natal kick binary\n",
    "\n",
    "Study of the impact of tides on non-coplanar binaries\n",
    "\n",
    "In this notebook we show the results of our code for the evolution of tides acting on a HMXB using different values for the inclination just after a momentum kick"
   ]
  },
  {
   "cell_type": "markdown",
   "id": "0b7db971",
   "metadata": {},
   "source": [
    "### load modules"
   ]
  },
  {
   "cell_type": "code",
   "execution_count": null,
   "id": "f41823ed",
   "metadata": {},
   "outputs": [],
   "source": [
    "# auto load modules, no need to restart kernel\n",
    "%load_ext autoreload\n",
    "%autoreload 2\n",
    "\n",
    "from matplotlib.pyplot import cm\n",
    "import matplotlib.pyplot as plt\n",
    "import numpy as np\n",
    "from matplotlib.ticker import MultipleLocator\n",
    "\n",
    "# custom module to read MESA output\n",
    "from mesa_reader import *"
   ]
  },
  {
   "cell_type": "markdown",
   "id": "0ee31fbe",
   "metadata": {},
   "source": [
    "### utility functions\n",
    "\n",
    "#### 1. group_consecutives\n",
    "\n",
    "Group lists by consecutive numbers. Useful when having several mass-transfer (MT) phases"
   ]
  },
  {
   "cell_type": "code",
   "execution_count": null,
   "id": "39fe4f8c",
   "metadata": {},
   "outputs": [],
   "source": [
    "def group_consecutives(vals, step=1):\n",
    "    '''Return list of consecutive lists of numbers from vals (number list)\n",
    "    '''\n",
    "    run = []\n",
    "    result = [run]\n",
    "    expect = None\n",
    "    for v in vals:\n",
    "        if (v == expect) or (expect is None):\n",
    "            run.append(int(v))\n",
    "        else:\n",
    "            run = [int(v)]\n",
    "            result.append(run)\n",
    "        expect = int(v) + step\n",
    "    return result\n",
    "\n",
    "def find_tams_age(center_h1, age):\n",
    "    '''Find the value of the terminal age main sequence (TAMS)'''\n",
    "    for k, h1 in enumerate(center_h1):\n",
    "        if h1 < 1e-4:\n",
    "            return age[k]"
   ]
  },
  {
   "cell_type": "markdown",
   "id": "aaee099b",
   "metadata": {},
   "source": [
    "---"
   ]
  },
  {
   "cell_type": "markdown",
   "id": "40cfde66",
   "metadata": {},
   "source": [
    "### inclinations used"
   ]
  },
  {
   "cell_type": "code",
   "execution_count": null,
   "id": "aa1ad7cb",
   "metadata": {},
   "outputs": [],
   "source": [
    "inclinations = (0, 20, 40, 60, 80, 100, 120, 140, 160)\n",
    "\n",
    "# hex color from https://coolors.co/palettes/popular/gradient\n",
    "colorbar = (\n",
    "    '#000000', '#012A4A', '#013A63', '#01497C', '#014F86', '#2A6F97',\n",
    "    '#2C7DA0', '#468FAF', '#61A5C2', '#89C2D9', '#A9D6E5')"
   ]
  },
  {
   "cell_type": "markdown",
   "id": "4419648b",
   "metadata": {},
   "source": [
    "### load data"
   ]
  },
  {
   "cell_type": "code",
   "execution_count": null,
   "id": "4b6e4e46",
   "metadata": {},
   "outputs": [],
   "source": [
    "root = '../data/asb2022/caseB'\n",
    "\n",
    "# dictionaries with MESA output plus the location of the TAMS for the star\n",
    "t_tams = dict()\n",
    "binary, companion = dict(), dict()\n",
    "\n",
    "for inclination in inclinations:\n",
    "    companion[inclination] = MesaInfo(f'{root}/{inclination}/LOGS_{inclination}/history.data')\n",
    "    binary[inclination] = MesaInfo(f'{root}/{inclination}/binary_history_{inclination}.data')\n",
    "    t_tams[inclination] = find_tams_age(companion[inclination].data.center_h1, companion[inclination].data.star_age)"
   ]
  },
  {
   "cell_type": "code",
   "execution_count": null,
   "id": "08697aad",
   "metadata": {},
   "outputs": [],
   "source": [
    "# find when there is a first MT phase in the evolution of the binary\n",
    "i = 0 # inclination\n",
    "rl_gap = (binary[i].data.star_1_radius - binary[i].data.rl_1) \\\n",
    "          / binary[i].data.rl_1\n",
    "mask = (rl_gap  > 0)\n",
    "init_MT = binary[i].data.age[mask][0] - t_tams[i]"
   ]
  },
  {
   "cell_type": "markdown",
   "id": "8e8e2e98",
   "metadata": {},
   "source": [
    "## plots"
   ]
  },
  {
   "cell_type": "markdown",
   "id": "61b66c0c",
   "metadata": {},
   "source": [
    "### evolution of orbital parameters"
   ]
  },
  {
   "cell_type": "markdown",
   "id": "65498ae3",
   "metadata": {},
   "source": [
    "### - eccentricity and orbital periods"
   ]
  },
  {
   "cell_type": "code",
   "execution_count": null,
   "id": "8dec0a5d",
   "metadata": {},
   "outputs": [],
   "source": [
    "plt.style.use('style.mpl')\n",
    "fig, axs = plt.subplots(figsize=(4,4), nrows=2, sharex=True)\n",
    "plt.subplots_adjust(hspace=0)\n",
    "\n",
    "left, bottom, width, height = [0.22, 0.68, 0.3, 0.17]\n",
    "ax2 = fig.add_axes([left, bottom, width, height])\n",
    "\n",
    "# tick labels\n",
    "latex = '{\\\\rm TAMS}'\n",
    "axs[-1].set_xlabel(f'$t - t_{latex}$')\n",
    "# first, orbital period\n",
    "latex = '{\\\\rm orb}'\n",
    "axs[0].set_ylabel(f'$P_{latex}$ [days]')\n",
    "# follows the eccentricity\n",
    "axs[1].set_ylabel('eccentricity')\n",
    "\n",
    "for k, inclination in enumerate(inclinations):\n",
    "    data_null = binary[inclination]\n",
    "    tams_age = t_tams[inclination]\n",
    "    \n",
    "    axs[0].plot(\n",
    "        data_null.data.age-tams_age, data_null.data.period_days,\n",
    "        color=colorbar[k]\n",
    "    );\n",
    "    \n",
    "    ax2.plot(\n",
    "        data_null.data.age-tams_age, data_null.data.period_days,\n",
    "        color=colorbar[k]\n",
    "    );\n",
    "    \n",
    "    axs[1].plot(\n",
    "        data_null.data.age-tams_age, data_null.data.eccentricity,\n",
    "        color=colorbar[k],\n",
    "        label=f'{inclination} deg'\n",
    "    );\n",
    "\n",
    "# begin of MT phase\n",
    "axs[0].axvline(x=init_MT, color='dimgray', ls=':')\n",
    "axs[1].axvline(x=init_MT, color='dimgray', ls=':')\n",
    "axs[0].annotate(\n",
    "    'MT phase', xy=(9e3,90),\n",
    "    bbox=dict(\n",
    "        facecolor='lightgray', edgecolor='dimgray',\n",
    "        boxstyle='round, pad=0.3'\n",
    "    )\n",
    ");\n",
    "\n",
    "# legend\n",
    "leg = axs[1].legend(\n",
    "    bbox_to_anchor=(0.72,0.2),\n",
    "    title='inclinations', fontsize=6, title_fontsize=8\n",
    ");\n",
    "for line, text in zip(leg.get_lines(), leg.get_texts()):\n",
    "    text.set_color(line.get_color())\n",
    "\n",
    "# ticks params & limits\n",
    "axs[0].set_yticks(np.arange(40, 120, 20)); axs[0].set_ylim([45, 105])\n",
    "axs[0].yaxis.set_minor_locator(MultipleLocator(10))\n",
    "\n",
    "axs[1].set_yticks(np.arange(0, 1.2, 0.1)); axs[1].set_ylim([0, 0.33])\n",
    "axs[1].yaxis.set_minor_locator(MultipleLocator(0.05))\n",
    "\n",
    "axs[-1].set_xticks(np.arange(6e3, 1.2e4, 1e3)); axs[-1].set_xlim([6e3, 1.1e4])\n",
    "axs[-1].xaxis.set_minor_locator(MultipleLocator(200))\n",
    "\n",
    "ax2.set_xticks(np.arange(6e3, 1.2e4, 1e3)); ax2.set_xlim([6.8e3, 9.2e3])\n",
    "ax2.xaxis.set_minor_locator(MultipleLocator(200))\n",
    "\n",
    "ax2.set_yticks(np.arange(50, 60, 2)); ax2.set_ylim([51, 57])\n",
    "ax2.yaxis.set_minor_locator(MultipleLocator(1))\n",
    "\n",
    "# reduce fontsize for inset plot\n",
    "for item in ([ax2.title, ax2.xaxis.label, ax2.yaxis.label] +\n",
    "             ax2.get_xticklabels() + ax2.get_yticklabels()):\n",
    "    item.set_fontsize(6);"
   ]
  },
  {
   "cell_type": "markdown",
   "id": "118b66d6",
   "metadata": {},
   "source": [
    "### - inclination and spin period of each star"
   ]
  },
  {
   "cell_type": "code",
   "execution_count": null,
   "id": "e5695d47",
   "metadata": {},
   "outputs": [],
   "source": [
    "plt.style.use('style.mpl')\n",
    "fig, axs = plt.subplots(figsize=(4,4), nrows=2, sharex=True)\n",
    "plt.subplots_adjust(hspace=0)\n",
    "\n",
    "# tick labels\n",
    "latex = '{\\\\rm TAMS}'\n",
    "axs[-1].set_xlabel(f'$t/t_{latex}$')\n",
    "# first, orbital period\n",
    "latex = '{\\\\rm orb}'\n",
    "axs[0].set_ylabel('inclination [deg]')\n",
    "# follows the rot & orb periods\n",
    "latex_rot = '{\\\\rm rot}'\n",
    "latex_orb = '{\\\\rm orb}'\n",
    "axs[1].set_ylabel(f'$P_{latex_rot}/P_{latex_orb}$')\n",
    "\n",
    "for k, inclination in enumerate(inclinations):\n",
    "    data_null = binary[inclination]\n",
    "    tams_age = t_tams[inclination]\n",
    "    \n",
    "    axs[0].plot(\n",
    "        data_null.data.age-tams_age, data_null.data.inclination_1,\n",
    "        color=colorbar[k],\n",
    "        label=f'{inclination} deg'\n",
    "    );\n",
    "\n",
    "    axs[1].plot(\n",
    "        data_null.data.age-tams_age, data_null.data.P_rot_div_P_orb_1,\n",
    "        color=colorbar[k],\n",
    "        label=f'{inclination} deg'\n",
    "    );\n",
    "\n",
    "# ticks params & limits\n",
    "axs[0].set_yticks(np.arange(0, 181, 45)); axs[0].set_ylim([-10, 180])\n",
    "axs[0].yaxis.set_minor_locator(MultipleLocator(45/2))\n",
    "\n",
    "axs[1].set_yticks(np.arange(0, 2, 0.2)); axs[1].set_ylim([0.7, 1.3])\n",
    "axs[1].yaxis.set_minor_locator(MultipleLocator(0.05))\n",
    "\n",
    "axs[-1].set_xticks(np.arange(6e3, 1.2e4, 1e3)); axs[-1].set_xlim([6e3, 1.1e4])\n",
    "axs[-1].xaxis.set_minor_locator(MultipleLocator(200))\n",
    "    \n",
    "# begin of MT phase\n",
    "axs[0].axvline(x=init_MT, color='dimgray', ls=':')\n",
    "axs[1].axvline(x=init_MT, color='dimgray', ls=':')\n",
    "axs[0].annotate(\n",
    "    'MT phase', xy=(9e3,150),\n",
    "    bbox=dict(\n",
    "        facecolor='lightgray', edgecolor='dimgray',\n",
    "        boxstyle='round, pad=0.3'\n",
    "    )\n",
    ");\n",
    "\n",
    "# legend\n",
    "leg = axs[1].legend(\n",
    "    bbox_to_anchor=(0.72,0.76),\n",
    "    title='inclinations', fontsize=6, title_fontsize=8\n",
    ");\n",
    "for line, text in zip(leg.get_lines(), leg.get_texts()):\n",
    "    text.set_color(line.get_color()) "
   ]
  }
 ],
 "metadata": {
  "kernelspec": {
   "display_name": "Python 3 (ipykernel)",
   "language": "python",
   "name": "python3"
  },
  "language_info": {
   "codemirror_mode": {
    "name": "ipython",
    "version": 3
   },
   "file_extension": ".py",
   "mimetype": "text/x-python",
   "name": "python",
   "nbconvert_exporter": "python",
   "pygments_lexer": "ipython3",
   "version": "3.9.7"
  }
 },
 "nbformat": 4,
 "nbformat_minor": 5
}
