{
 "cells": [
  {
   "cell_type": "markdown",
   "id": "3c3f7561",
   "metadata": {},
   "source": [
    "# Natal kicks\n",
    "\n",
    "Analyze the outcome of a distribution of natal kicks applied to a binary system at a core-collapse stage\n",
    "\n",
    "The main focus of the study is to understand how the inclination between the pre and post collapse orbital plane\n",
    "is shifted as a direct consequence of a random component of the momentum kick outside the pre collapse plane."
   ]
  },
  {
   "cell_type": "markdown",
   "id": "fae8341b",
   "metadata": {},
   "source": [
    "## load modules"
   ]
  },
  {
   "cell_type": "code",
   "execution_count": null,
   "id": "7dede151",
   "metadata": {},
   "outputs": [],
   "source": [
    "%load_ext autoreload\n",
    "%autoreload 2\n",
    "\n",
    "import pprint\n",
    "from typing import Union\n",
    "\n",
    "import matplotlib.pyplot as plt\n",
    "import numpy as np\n",
    "from scipy import stats\n",
    "\n",
    "import poskiorb"
   ]
  },
  {
   "cell_type": "markdown",
   "id": "d498173a",
   "metadata": {},
   "source": [
    "## define some utility functions"
   ]
  },
  {
   "cell_type": "code",
   "execution_count": null,
   "id": "642e156a",
   "metadata": {},
   "outputs": [],
   "source": [
    "def get_value_from_cc_file(fname: str, string: str) -> Union[str, float]:\n",
    "    '''return value associated with string\n",
    "\n",
    "    Parameters\n",
    "    ----------\n",
    "    fname : `string`\n",
    "       Name of file where to search for information.\n",
    "\n",
    "    string : `string`\n",
    "       What to look for in `fname`.\n",
    "\n",
    "    Returns\n",
    "    -------\n",
    "    value : `string/float`\n",
    "       Formatted returned value.\n",
    "    '''\n",
    "\n",
    "    with open(fname, 'r') as f:\n",
    "        lines = f.readlines()\n",
    "\n",
    "    for line in lines:\n",
    "        if string in line:\n",
    "            if string == 'sn_model':\n",
    "                return line.strip().split()[1]\n",
    "            else:\n",
    "                return float(line.strip().split()[1])\n",
    "\n",
    "\n",
    "def get_cc_info(star_fname: str, binary_fname: str) -> dict:\n",
    "    '''get all important parameters of star & binary at core-collapse\n",
    "\n",
    "    Parameters\n",
    "    ----------\n",
    "    star_fname : `string`\n",
    "       Name of file with info of collapsing star.\n",
    "\n",
    "    binary_fname : `string`\n",
    "       Name of file with info on binary system at core-collapse.\n",
    "\n",
    "    Returns\n",
    "    -------\n",
    "    CollapseInfo : `dictionary`\n",
    "       Information of binary system and collapsing star at core-collapse.\n",
    "    '''\n",
    "\n",
    "    m1_pre_cc = get_value_from_cc_file(star_fname, 'mass_pre_cc')\n",
    "    m1_c_core_mass = get_value_from_cc_file(star_fname, 'c_core_mass_pre_cc')\n",
    "    m1_remnant_mass = get_value_from_cc_file(star_fname, 'remnant_mass')\n",
    "    m1_fallback_fraction = get_value_from_cc_file(star_fname, 'fallback_fraction')\n",
    "    m2 = get_value_from_cc_file(binary_fname, 'companion_mass')\n",
    "    P = get_value_from_cc_file(binary_fname, 'period_pre_cc')\n",
    "\n",
    "    # store everything in a dictionary\n",
    "    CollapseInfo = {'m1': m1_pre_cc, 'm1_c_core_mass': m1_c_core_mass,\n",
    "            'm1_remnant_mass': m1_remnant_mass, 'm1_fallback_fraction': m1_fallback_fraction,\n",
    "            'm2': m2, 'P': P}\n",
    "\n",
    "    return CollapseInfo\n",
    "\n",
    "\n",
    "def get_inclinations_inside_box(x, y, z, weights,\n",
    "        xlow=None, ylow=None, xhigh=None, yhigh=None, zlow=None, zhigh=None,\n",
    "        verbose=False):\n",
    "    '''Get z values for all the (x,y) pairs that falls within the square defined\n",
    "    by (xlow,ylow),(xhigh,yhigh)\n",
    "\n",
    "    Parameters\n",
    "    ----------\n",
    "    x : `array`\n",
    "       Values on the xaxis. Either `P_post` or `a_post`\n",
    "\n",
    "    y : `array`\n",
    "       Values on the yaxis. Tipically eccentricty (`e_post`)\n",
    "\n",
    "    z : `array`\n",
    "       Values on the zaxis. Use for inclination values only (`cosi`)\n",
    "    \n",
    "    weights : `array`\n",
    "        Weights associated to (x,y,z) values\n",
    "\n",
    "    xlow : `float`\n",
    "       Lower left x value\n",
    "\n",
    "    ylow : `float`\n",
    "       Lower left y value\n",
    "       \n",
    "    zlow : `float`\n",
    "       Lower z value\n",
    "       \n",
    "    xhigh : `float`\n",
    "       Upper right x value\n",
    "\n",
    "    yhigh : `float`\n",
    "       Upper right y value\n",
    "       \n",
    "    zhigh : `float`\n",
    "       Upper z value\n",
    "\n",
    "    verbose : `boolean`\n",
    "       Whether to output more information to user\n",
    "    '''\n",
    "    \n",
    "    # stack points in a 3D array\n",
    "    points = np.column_stack((x, y, z))\n",
    "\n",
    "    if verbose:\n",
    "        box = f'[({xlow:.2f}, {ylow:.2f}), ({xhigh:.2f}, {yhigh:.2f})]'\n",
    "        print(f'defining which points are in/out of box: {box}')\n",
    "\n",
    "    ll = np.array([xmin, ymin, zmin])  # lower-left\n",
    "    ur = np.array([xmax, ymax, zmax])  # upper-right\n",
    "    \n",
    "    # indexes for points inside box\n",
    "    inidx = np.all(np.logical_and(ll <= points, points <= ur), axis=1)\n",
    "    \n",
    "    inbox = points[inidx]\n",
    "    outbox = points[np.logical_not(inidx)]\n",
    "    \n",
    "    if verbose:\n",
    "        print(f'\\tpoints inside box: {len(inbox)} ({len(inbox)/len(points)*100:5.2f} percent)')\n",
    "        print(f'\\tpoints outside box: {len(outbox)} ({len(outbox)/len(points)*100:5.2f} percent)')\n",
    "\n",
    "    return np.arccos(inbox[:,2])*180/np.pi, weights[inidx]"
   ]
  },
  {
   "cell_type": "markdown",
   "id": "846f841b",
   "metadata": {},
   "source": [
    "## get info on collapse stage"
   ]
  },
  {
   "cell_type": "code",
   "execution_count": null,
   "id": "db26fdfe",
   "metadata": {},
   "outputs": [],
   "source": [
    "star_fname = '/home/asimazbunzel/Projects/HMXB-NSBH/src/tides/cc_data/star_at_core_collapse.data'\n",
    "binary_fname = '/home/asimazbunzel/Projects/HMXB-NSBH/src/tides/cc_data/binary_at_core_collapse.data'\n",
    "\n",
    "Info = get_cc_info(star_fname=star_fname, binary_fname=binary_fname)"
   ]
  },
  {
   "cell_type": "code",
   "execution_count": null,
   "id": "4be82b4a",
   "metadata": {},
   "outputs": [],
   "source": [
    "pprint.pprint(Info)"
   ]
  },
  {
   "cell_type": "markdown",
   "id": "e35e0872",
   "metadata": {},
   "source": [
    "## apply kick distribution to binary using `poskiorb` module"
   ]
  },
  {
   "cell_type": "code",
   "execution_count": null,
   "id": "a0fda6bc",
   "metadata": {},
   "outputs": [],
   "source": [
    "binary = poskiorb.binary.BinarySystem(m1=Info['m1'],\n",
    "            m1_core_mass=Info['m1_c_core_mass'],\n",
    "            m1_remnant_mass=Info['m1_remnant_mass'],\n",
    "            m1_fallback_fraction=Info['m1_fallback_fraction'],\n",
    "            m2=Info['m2'], P=Info['P'])"
   ]
  },
  {
   "cell_type": "code",
   "execution_count": null,
   "id": "1f33f4c4",
   "metadata": {},
   "outputs": [],
   "source": [
    "binary.set_natal_kick_distribution(\n",
    "    n_trials=100000,\n",
    "    distribution_id='Maxwell',\n",
    "    kick_scaling=lambda x: (1-binary.m1_fallback_fraction)*x)\n",
    "binary.get_natal_kick_distribution()\n",
    "binary.get_orbital_distribution(verbose=True)\n",
    "binary.get_post_kick_grid()"
   ]
  },
  {
   "cell_type": "markdown",
   "id": "b8d7a722",
   "metadata": {},
   "source": [
    "## plot distribution of the 3D post-kick orbits (a, e, cosi)"
   ]
  },
  {
   "cell_type": "markdown",
   "id": "e89ea1c0",
   "metadata": {},
   "source": [
    "### orbital period vs eccentricity"
   ]
  },
  {
   "cell_type": "code",
   "execution_count": null,
   "id": "b12e3327",
   "metadata": {},
   "outputs": [],
   "source": [
    "plt.style.use('style.mpl')\n",
    "fig, ax = plt.subplots(figsize=(3,3))\n",
    "\n",
    "ax.set_xlabel('period post-kick [days]')\n",
    "ax.set_ylabel('eccentricity post-kick')\n",
    "\n",
    "ax.set_xscale('log')\n",
    "ax.set_xlim([4e1, 3e4])\n",
    "ax.set_ylim([0,1])\n",
    "\n",
    "ax.scatter(binary.P_post, binary.e_post, s=0.1);"
   ]
  },
  {
   "cell_type": "markdown",
   "id": "ec0ea3f5",
   "metadata": {},
   "source": [
    "### orbital period vs inclination and eccentricity vs inclination"
   ]
  },
  {
   "cell_type": "code",
   "execution_count": null,
   "id": "a0c9613b",
   "metadata": {},
   "outputs": [],
   "source": [
    "plt.style.use('style.mpl')\n",
    "fig, axs = plt.subplots(figsize=(5,3), ncols=2, sharey=True)\n",
    "\n",
    "axs[0].set_xlabel('period post-kick [days]')\n",
    "axs[0].set_ylabel('inclination between pre- & post-kick')\n",
    "axs[1].set_xlabel('eccentricity post-kick')\n",
    "\n",
    "axs[0].set_xscale('log')\n",
    "axs[0].set_xlim([4e1, 3e4])\n",
    "axs[0].set_ylim([0, 180])\n",
    "axs[1].set_xlim([0, 1])\n",
    "\n",
    "axs[0].scatter(binary.P_post, np.arccos(binary.cosi) * 180 / np.pi, s=0.1)\n",
    "axs[1].scatter(binary.e_post, np.arccos(binary.cosi) * 180 / np.pi, s=0.1);"
   ]
  },
  {
   "cell_type": "markdown",
   "id": "8a68e81c",
   "metadata": {},
   "source": [
    "### colorbar on (P, e) plane"
   ]
  },
  {
   "cell_type": "code",
   "execution_count": null,
   "id": "e714f71d",
   "metadata": {},
   "outputs": [],
   "source": [
    "plt.style.use('style.mpl')\n",
    "fig, ax = plt.subplots(figsize=(3,3))\n",
    "\n",
    "ax.set_xlabel('period post-kick [days]')\n",
    "ax.set_ylabel('eccentricity post-kick')\n",
    "\n",
    "ax.set_xscale('log')\n",
    "ax.set_xlim([4e1, 5e3])\n",
    "ax.set_ylim([0,1])\n",
    "\n",
    "cb = ax.scatter(binary.P_post, binary.e_post, s=0.05, c=np.arccos(binary.cosi) * 180 / np.pi,\n",
    "                vmin=0, vmax=180, rasterized=True)\n",
    "\n",
    "plt.colorbar(cb, label='inclination between pre- & post-kick', ticks=[0, 45, 90, 135, 180]);\n",
    "\n",
    "# plt.subplots_adjust(left=0.16, bottom=0.16)\n",
    "# plt.savefig('porb_vs_ecc_zinc.svg')"
   ]
  },
  {
   "cell_type": "markdown",
   "id": "a2dfccc6",
   "metadata": {},
   "source": [
    "#### Borders on the (P,e) plane"
   ]
  },
  {
   "cell_type": "code",
   "execution_count": null,
   "id": "66fe6f07",
   "metadata": {},
   "outputs": [],
   "source": [
    "print('P borders: ', binary.P_post_borders)\n",
    "print('e borders: ', binary.e_post_borders)"
   ]
  },
  {
   "cell_type": "code",
   "execution_count": null,
   "id": "9bf805de",
   "metadata": {},
   "outputs": [],
   "source": [
    "print('P grid: ', np.unique(binary.P_post_grid))\n",
    "print('e grid: ', np.unique(binary.e_post_grid))"
   ]
  },
  {
   "cell_type": "code",
   "execution_count": null,
   "id": "5afe6017",
   "metadata": {},
   "outputs": [],
   "source": [
    "print('chosen values P, e :', 271.86268171, 0.45093588)"
   ]
  },
  {
   "cell_type": "code",
   "execution_count": null,
   "id": "74580246",
   "metadata": {},
   "outputs": [],
   "source": [
    "plt.style.use('style.mpl')\n",
    "fig, ax = plt.subplots(figsize=(3,3))\n",
    "\n",
    "ax.set_xlabel('period post-kick [days]')\n",
    "ax.set_ylabel('eccentricity post-kick')\n",
    "\n",
    "ax.set_xscale('log')\n",
    "ax.set_xlim([4e1, 5e3])\n",
    "ax.set_ylim([0,1])\n",
    "\n",
    "ax.scatter(binary.P_post, binary.e_post, s=0.05, c='gray', alpha=0.4, rasterized=True)\n",
    "\n",
    "mask = (binary.P_post > 212.1429762) & (binary.P_post < 334.11121516) & \\\n",
    "       (binary.e_post > 0.41) & (binary.e_post < 0.5)\n",
    "ax.scatter(binary.P_post[mask], binary.e_post[mask], s=0.3, c='C0')\n",
    "\n",
    "mask = (binary.P_post > 85.5271232) & (binary.P_post < 134.69958598) & \\\n",
    "       (binary.e_post > 0.6) & (binary.e_post < 0.7)\n",
    "ax.scatter(binary.P_post[mask], binary.e_post[mask], s=0.3, c='C1')\n",
    "\n",
    "for border in binary.P_post_borders:\n",
    "    ax.axvline(border, ls='--', color='black', lw=0.7)\n",
    "\n",
    "for border in binary.e_post_borders:\n",
    "    ax.axhline(border, ls='--', color='black', lw=0.7)\n",
    "\n",
    "# plt.subplots_adjust(left=0.16, bottom=0.16)\n",
    "# plt.savefig('porb_vs_ecc_chosen.svg')"
   ]
  },
  {
   "cell_type": "markdown",
   "id": "084e8389",
   "metadata": {},
   "source": [
    "### compute weights for each natal kick value"
   ]
  },
  {
   "cell_type": "code",
   "execution_count": null,
   "id": "21cc7f6f",
   "metadata": {},
   "outputs": [],
   "source": [
    "weights = np.zeros(len(binary.P_post))\n",
    "for k in range(len(binary.P_post)):\n",
    "    w = binary.w_post[k]\n",
    "    theta = binary.theta_post[k]\n",
    "    phi = binary.phi_post[k]\n",
    "    tmp = stats.maxwell.pdf(w, scale=265*(1-binary.m1_fallback_fraction)) \n",
    "    tmp *= stats.uniform.pdf(np.cos(theta), loc=-1, scale=2)\n",
    "    tmp *= stats.uniform.pdf(phi, scale=2*np.pi)\n",
    "    weights[k] = tmp"
   ]
  },
  {
   "cell_type": "markdown",
   "id": "028f28e0",
   "metadata": {},
   "source": [
    "## for two regions in the (P, e) plane, grab all inclinations within it to plot a histogram/distribution"
   ]
  },
  {
   "cell_type": "markdown",
   "id": "3d25eb2b",
   "metadata": {},
   "source": [
    "These two regions will then be compared using a Kolmogorov-Smirnov test to check if the two distributions are similar"
   ]
  },
  {
   "cell_type": "code",
   "execution_count": null,
   "id": "db86fc08",
   "metadata": {},
   "outputs": [],
   "source": [
    "while True:\n",
    "    \n",
    "    # randomly draw the first box\n",
    "    k1 = np.random.randint(0, len(binary.P_post_borders)-1)\n",
    "\n",
    "    # set limits for that box\n",
    "    xmin = binary.P_post_borders[k1]\n",
    "    xmax = binary.P_post_borders[k1+1]\n",
    "    ymin = binary.e_post_borders[k1]\n",
    "    ymax = binary.e_post_borders[k1+1]\n",
    "    zmin=-2\n",
    "    zmax=2\n",
    "    \n",
    "    # grab inclinations\n",
    "    inclinations1, weights1 = get_inclinations_inside_box(\n",
    "        binary.P_post, binary.e_post, binary.cosi, weights,\n",
    "        xmin, xmax, ymin, ymax, zmin, zmax,\n",
    "        True)\n",
    "    \n",
    "    # exit if have inclinations inside box, else try again\n",
    "    if len(inclinations1) > 0: break\n",
    "        \n",
    "# repeat same logic for the second box\n",
    "while True:\n",
    "    \n",
    "    # randomly draw the first box\n",
    "    k2 = np.random.randint(0, len(binary.P_post_borders)-1)\n",
    "    \n",
    "    while k1 == k2:\n",
    "        k2 = np.random.randint(0, len(binary.P_post_borders)-1)\n",
    "        \n",
    "    # set limits for that box\n",
    "    xmin = binary.P_post_borders[k2]\n",
    "    xmax = binary.P_post_borders[k2+1]\n",
    "    ymin = binary.e_post_borders[k2]\n",
    "    ymax = binary.e_post_borders[k2+1]\n",
    "    zmin=-2\n",
    "    zmax=2\n",
    "    \n",
    "    # grab inclinations\n",
    "    inclinations2, weights2 = get_inclinations_inside_box(\n",
    "        binary.P_post, binary.e_post, binary.cosi, weights,\n",
    "        xmin, xmax, ymin, ymax, zmin, zmax,\n",
    "        True)\n",
    "    \n",
    "    # exit if have inclinations inside box, else try again\n",
    "    if len(inclinations2) > 0: break"
   ]
  },
  {
   "cell_type": "markdown",
   "id": "8c66b4ed",
   "metadata": {},
   "source": [
    "### plot distributions"
   ]
  },
  {
   "cell_type": "code",
   "execution_count": null,
   "id": "29071c22",
   "metadata": {},
   "outputs": [],
   "source": [
    "plt.style.use('style.mpl')\n",
    "fig, ax = plt.subplots(figsize=(3,3))\n",
    "\n",
    "ax.set_xlabel('inclination')\n",
    "ax.set_ylabel('density')\n",
    "\n",
    "ibins = np.linspace(0,180,10)\n",
    "hist1, bin_edges1 = np.histogram(inclinations1, bins=ibins, weights=weights1)\n",
    "hist2, bin_edges2 = np.histogram(inclinations2, bins=ibins, weights=weights2)\n",
    "\n",
    "# hist1/=np.sum(hist1)\n",
    "# hist2/=np.sum(hist2)\n",
    "\n",
    "ax.set_xlim([0,180])\n",
    "ax.set_ylim([0,max(np.max(hist1), np.max(hist2))])\n",
    "\n",
    "left,right = bin_edges1[:-1],bin_edges1[1:]\n",
    "X_Z = np.array([left,right]).T.flatten()\n",
    "Y_Z = np.array([hist1,hist1]).T.flatten()\n",
    "ax.fill_between(X_Z, 1e-5*np.ones(len(Y_Z)), Y_Z, label='inclination set 1',\n",
    "    color='darkslateblue', alpha=0.75, linewidth=2);\n",
    "\n",
    "left,right = bin_edges2[:-1],bin_edges2[1:]\n",
    "X_Z = np.array([left,right]).T.flatten()\n",
    "Y_Z = np.array([hist2,hist2]).T.flatten()\n",
    "ax.fill_between(X_Z, 1e-5*np.ones(len(Y_Z)), Y_Z, label='inclination set 2',\n",
    "    color='orange', alpha=0.5, linewidth=2);\n",
    "\n",
    "ax.legend()\n",
    "\n",
    "ks = stats.ks_2samp(inclinations1, inclinations2)\n",
    "ax.annotate('p-value = {:.2f}'.format(ks.pvalue), xy=(0.58,0.62), xycoords='figure fraction', fontsize=9,\n",
    "           bbox=dict(facecolor='lightgray', edgecolor='dimgray', boxstyle='round, pad=0.4'));\n",
    "\n",
    "# plt.subplots_adjust(left=0.20, bottom=0.16)\n",
    "# plt.savefig('hist_inclination.svg')"
   ]
  },
  {
   "cell_type": "markdown",
   "id": "16305ea3",
   "metadata": {},
   "source": [
    "KS p-value is usually $>> 0.1$, which means that we can safely assume that within each bin in the (P, e) plane,\n",
    "the distribution of inclinations has a similar shape"
   ]
  }
 ],
 "metadata": {
  "kernelspec": {
   "display_name": "Python 3 (ipykernel)",
   "language": "python",
   "name": "python3"
  },
  "language_info": {
   "codemirror_mode": {
    "name": "ipython",
    "version": 3
   },
   "file_extension": ".py",
   "mimetype": "text/x-python",
   "name": "python",
   "nbconvert_exporter": "python",
   "pygments_lexer": "ipython3",
   "version": "3.9.7"
  }
 },
 "nbformat": 4,
 "nbformat_minor": 5
}
